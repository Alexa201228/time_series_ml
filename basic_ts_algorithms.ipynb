{
 "cells": [
  {
   "cell_type": "markdown",
   "metadata": {},
   "source": [
    "## Autoregression"
   ]
  },
  {
   "cell_type": "markdown",
   "metadata": {},
   "source": [
    "Метод авторегрессии (AR) предсказывает последующее значение в последовательности, используя линейную комбинацию предыдущих наблюдений.\n",
    "\n",
    "В обозначении модели указывается порядок модели p в качестве параметра функции AR, например AR(p). Например, AR(1) - это модель авторегрессии первого порядка.\n",
    "\n",
    "Метод лучше всего подходит для однопеременных временных рядов, в которых отсутствуют трендовые и сезонные компоненты."
   ]
  },
  {
   "cell_type": "code",
   "execution_count": 1,
   "metadata": {},
   "outputs": [
    {
     "data": {
      "text/plain": [
       "array([100.0270372])"
      ]
     },
     "execution_count": 1,
     "metadata": {},
     "output_type": "execute_result"
    }
   ],
   "source": [
    "from statsmodels.tsa.ar_model import AutoReg\n",
    "from random import random\n",
    "\n",
    "data = [x + random() for x in range(1, 100)]\n",
    "\n",
    "model = AutoReg(data, lags=1)\n",
    "trained_model = model.fit()\n",
    "\n",
    "predictions = trained_model.predict(len(data), len(data))\n",
    "predictions"
   ]
  },
  {
   "cell_type": "markdown",
   "metadata": {},
   "source": [
    "## Moving average"
   ]
  },
  {
   "cell_type": "markdown",
   "metadata": {},
   "source": [
    "Метод скользящего среднего (MA) моделирует прогноз следующего шага в последовательности как линейную функцию остаточных ошибок от среднего процесса на предыдущих временных шагах.\n",
    "\n",
    "Важно отметить, что модель скользящего среднего отличается от вычисления скользящего среднего временного ряда.\n",
    "\n",
    "В обозначении модели указывается порядок модели q как параметр функции MA, например MA(q). Например, MA(1) - это модель скользящего среднего первого порядка.\n",
    "\n",
    "Метод подходит для одномерных временных рядов без тренда и сезонных компонентов.\n",
    "\n",
    "Мы можем использовать класс ARIMA для создания модели MA и установки AR-модели нулевого порядка. Мы должны указать порядок модели MA в аргументе order."
   ]
  },
  {
   "cell_type": "code",
   "execution_count": 2,
   "metadata": {},
   "outputs": [
    {
     "name": "stderr",
     "output_type": "stream",
     "text": [
      "d:\\Programming Train\\time_series_ml\\.venv\\lib\\site-packages\\statsmodels\\tsa\\statespace\\sarimax.py:978: UserWarning: Non-invertible starting MA parameters found. Using zeros as starting parameters.\n",
      "  warn('Non-invertible starting MA parameters found.'\n"
     ]
    },
    {
     "data": {
      "text/plain": [
       "array([74.95571098])"
      ]
     },
     "execution_count": 2,
     "metadata": {},
     "output_type": "execute_result"
    }
   ],
   "source": [
    "from statsmodels.tsa.arima.model import ARIMA\n",
    "from random import random\n",
    "\n",
    "data = [x + random() for x in range(1, 100)]\n",
    "\n",
    "model = ARIMA(data, order=(0, 0, 1))\n",
    "trained_model = model.fit()\n",
    "\n",
    "predictions = trained_model.predict(len(data), len(data))\n",
    "predictions"
   ]
  },
  {
   "cell_type": "markdown",
   "metadata": {},
   "source": [
    "## Autoregressive moving average (ARMA)"
   ]
  },
  {
   "cell_type": "markdown",
   "metadata": {},
   "source": [
    "Модель метода авторегрессионного скользящего среднего (ARMA) прогнозирует следующий шаг в последовательности на основе линейной комбинации прошлых наблюдений и прошлых остаточных ошибок.\n",
    "\n",
    "Метод сочетает в себе модели авторегрессии (AR) и скользящего среднего (MA).\n",
    "\n",
    "Для представления модели в нотации указывается порядок моделей AR(p) и MA(q) в качестве параметров функции ARMA, например ARMA(p, q). Модель ARIMA может быть использована для разработки моделей AR или MA.\n",
    "\n",
    "Метод подходит для одномерных временных рядов без тренда и сезонных компонентов."
   ]
  },
  {
   "cell_type": "code",
   "execution_count": 3,
   "metadata": {},
   "outputs": [
    {
     "name": "stderr",
     "output_type": "stream",
     "text": [
      "d:\\Programming Train\\time_series_ml\\.venv\\lib\\site-packages\\statsmodels\\tsa\\statespace\\sarimax.py:966: UserWarning: Non-stationary starting autoregressive parameters found. Using zeros as starting parameters.\n",
      "  warn('Non-stationary starting autoregressive parameters'\n",
      "d:\\Programming Train\\time_series_ml\\.venv\\lib\\site-packages\\statsmodels\\base\\model.py:607: ConvergenceWarning: Maximum Likelihood optimization failed to converge. Check mle_retvals\n",
      "  warnings.warn(\"Maximum Likelihood optimization failed to \"\n"
     ]
    },
    {
     "data": {
      "text/plain": [
       "array([99.25739886])"
      ]
     },
     "execution_count": 3,
     "metadata": {},
     "output_type": "execute_result"
    }
   ],
   "source": [
    "from statsmodels.tsa.arima.model import ARIMA\n",
    "from random import random\n",
    "\n",
    "data = [x + random() for x in range(1, 100)]\n",
    "\n",
    "model = ARIMA(data, order=(2, 0, 1))\n",
    "trained_model = model.fit()\n",
    "\n",
    "predictions = trained_model.predict(len(data), len(data))\n",
    "predictions"
   ]
  },
  {
   "cell_type": "markdown",
   "metadata": {},
   "source": [
    "## ARIMA (Autoregressive integrated moving average)"
   ]
  },
  {
   "cell_type": "markdown",
   "metadata": {},
   "source": [
    "Модель метода авторегрессионного интегрированного скользящего среднего (ARIMA) предсказывает следующий шаг в последовательности как линейную функцию от разности наблюдений и остаточных ошибок на предыдущих временных шагах.\n",
    "\n",
    "Метод объединяет принципы моделей авторегрессии (AR) и скользящего среднего (MA), а также этап предварительной обработки последовательности дифферинциалом, чтобы сделать последовательность стационарной, называемый интегрированием (I).\n",
    "\n",
    "Нотация для модели включает в себя указание порядка моделей AR(p), I(d) и MA(q) в качестве параметров функции ARIMA, например ARIMA(p, d, q). Модель ARIMA также может быть использована для разработки моделей AR, MA и ARMA.\n",
    "\n",
    "Подход ARIMA оптимален для однопеременных временных рядов, которые демонстрируют тенденцию, но не имеют сезонных колебаний."
   ]
  },
  {
   "cell_type": "code",
   "execution_count": 4,
   "metadata": {},
   "outputs": [
    {
     "name": "stderr",
     "output_type": "stream",
     "text": [
      "d:\\Programming Train\\time_series_ml\\.venv\\lib\\site-packages\\statsmodels\\base\\model.py:607: ConvergenceWarning: Maximum Likelihood optimization failed to converge. Check mle_retvals\n",
      "  warnings.warn(\"Maximum Likelihood optimization failed to \"\n",
      "d:\\Programming Train\\time_series_ml\\.venv\\lib\\site-packages\\statsmodels\\tsa\\statespace\\representation.py:374: FutureWarning: Unknown keyword arguments: dict_keys(['typ']).Passing unknown keyword arguments will raise a TypeError beginning in version 0.15.\n",
      "  warnings.warn(msg, FutureWarning)\n"
     ]
    },
    {
     "data": {
      "text/plain": [
       "array([100.74449489])"
      ]
     },
     "execution_count": 4,
     "metadata": {},
     "output_type": "execute_result"
    }
   ],
   "source": [
    "from statsmodels.tsa.arima.model import ARIMA\n",
    "from random import random\n",
    "\n",
    "data = [x + random() for x in range(1, 100)]\n",
    "\n",
    "model = ARIMA(data, order=(1, 1, 1))\n",
    "trained_model = model.fit()\n",
    "\n",
    "predictions = trained_model.predict(len(data), len(data), typ=\"levels\")\n",
    "predictions"
   ]
  },
  {
   "cell_type": "markdown",
   "metadata": {},
   "source": [
    "## SARIMA (Seasonal autoregressive integrated moving average)"
   ]
  },
  {
   "cell_type": "markdown",
   "metadata": {},
   "source": [
    "Метод сезонного авторегрессионного интегрированного скользящего среднего (SARIMA) моделирует следующий шаг в последовательности на основе линейного сочетания дифференцированных наблюдений, ошибок, дифференцированных сезонных наблюдений и сезонных ошибок на предыдущих временных шагах.\n",
    "\n",
    "SARIMA расширяет возможности модели ARIMA, позволяя выполнять те же модели авторегрессии, дифференцирования и скользящего среднего на сезонном уровне.\n",
    "\n",
    "Нотация для модели включает в себя указание порядка моделей AR(p), I(d) и MA(q) в качестве параметров функции ARIMA и параметров AR(P), I(D), MA(Q) и m на сезонном уровне, например, SARIMA(p, d, q)(P, D, Q)m, где \"m\" - количество временных шагов в каждом сезоне (сезонный период). Модель SARIMA может быть использована для разработки моделей AR, MA, ARMA и ARIMA.\n",
    "\n",
    "Метод подходит для одномерных временных рядов с трендом и/или сезонными компонентами."
   ]
  },
  {
   "cell_type": "code",
   "execution_count": 5,
   "metadata": {},
   "outputs": [
    {
     "data": {
      "text/plain": [
       "array([100.18828805])"
      ]
     },
     "execution_count": 5,
     "metadata": {},
     "output_type": "execute_result"
    }
   ],
   "source": [
    "from statsmodels.tsa.statespace.sarimax import SARIMAX\n",
    "from random import random\n",
    "\n",
    "data = [x + random() for x in range(1, 100)]\n",
    "\n",
    "model = SARIMAX(data, order=(1, 1, 1), seasonal_order=(0, 0, 0, 0))\n",
    "trained_model = model.fit(disp=False)\n",
    "\n",
    "predictions = trained_model.predict(len(data), len(data))\n",
    "predictions"
   ]
  },
  {
   "cell_type": "markdown",
   "metadata": {},
   "source": [
    "## SARIMAX (Seasonal autoregressive integrated moving average with exogenous regressors)"
   ]
  },
  {
   "cell_type": "markdown",
   "metadata": {},
   "source": [
    "Модель сезонного авторегрессионного интегрированного скользящего среднего с экзогенными регрессорами (SARIMAX) является расширением модели SARIMA, которая также включает моделирование экзогенных переменных.\n",
    "\n",
    "Экзогенные переменные также называются ковариатами и могут рассматриваться как параллельные входные последовательности, которые имеют наблюдения на тех же временных шагах, что и исходный ряд. Первичный ряд может называться эндогенными данными, чтобы отличить его от экзогенной последовательности (последовательностей). Наблюдения за экзогенными переменными включаются в модель непосредственно на каждом временном шаге и не моделируются так же, как первичная эндогенная последовательность (например, как AR, MA и т. д. процесс).\n",
    "\n",
    "Метод SARIMAX также может быть использован для моделирования подмножеств моделей с экзогенными переменными, таких как ARX, MAX, ARMAX и ARIMAX.\n",
    "\n",
    "Метод подходит для одномерных временных рядов с трендовыми и/или сезонными компонентами и экзогенными переменными."
   ]
  },
  {
   "cell_type": "code",
   "execution_count": 6,
   "metadata": {},
   "outputs": [
    {
     "data": {
      "text/plain": [
       "array([100.84353198])"
      ]
     },
     "execution_count": 6,
     "metadata": {},
     "output_type": "execute_result"
    }
   ],
   "source": [
    "from statsmodels.tsa.statespace.sarimax import SARIMAX\n",
    "from random import random\n",
    "\n",
    "data1 = [x + random() for x in range(1, 100)]\n",
    "data2 = [x + random() for x in range(101, 200)]\n",
    "\n",
    "model = SARIMAX(data1, exog=data2, order=(1, 1, 1), seasonal_order=(0, 0, 0, 0))\n",
    "trained_model = model.fit(disp=False)\n",
    "\n",
    "exog2 = [200 + random()]\n",
    "predictions = trained_model.predict(len(data1), len(data1), exog=[exog2])\n",
    "predictions"
   ]
  },
  {
   "cell_type": "markdown",
   "metadata": {},
   "source": [
    "## Vector autoregression (VAR)"
   ]
  },
  {
   "cell_type": "markdown",
   "metadata": {},
   "source": [
    "Метод векторной авторегрессии (VAR) моделирует следующий шаг в каждом временном ряду, используя подход AR-модели. По сути, он расширяет модель AR, чтобы удовлетворить требованиям нескольких параллельных временных рядов, например, многомерных временных рядов.\n",
    "\n",
    "Нотация для модели включает в себя указание порядка модели AR(p) в качестве параметров функции VAR, например VAR(p).\n",
    "\n",
    "Метод подходит для многомерных временных рядов без тренда и сезонных компонентов."
   ]
  },
  {
   "cell_type": "code",
   "execution_count": 7,
   "metadata": {},
   "outputs": [
    {
     "name": "stderr",
     "output_type": "stream",
     "text": [
      "C:\\Users\\aleks\\AppData\\Local\\Temp\\ipykernel_2516\\874638918.py:14: FutureWarning: y is a deprecated alias for endog, will be removed in version 0.11.0\n",
      "  predictions = trained_model.forecast(model.y, steps=1)\n"
     ]
    },
    {
     "data": {
      "text/plain": [
       "array([[100.48413464, 101.02694995]])"
      ]
     },
     "execution_count": 7,
     "metadata": {},
     "output_type": "execute_result"
    }
   ],
   "source": [
    "from statsmodels.tsa.vector_ar.var_model import VAR\n",
    "from random import random\n",
    "\n",
    "data = list()\n",
    "\n",
    "for i in range(100):\n",
    "    v1 = i + random()\n",
    "    v2 = v1 + random()\n",
    "    data.append([v1, v2])\n",
    "\n",
    "model = VAR(data)\n",
    "trained_model = model.fit()\n",
    "\n",
    "predictions = trained_model.forecast(model.y, steps=1)\n",
    "predictions"
   ]
  },
  {
   "cell_type": "markdown",
   "metadata": {},
   "source": [
    "## VARMA (Vector autoregression moving average)"
   ]
  },
  {
   "cell_type": "markdown",
   "metadata": {},
   "source": [
    "Метод скользящего среднего векторной авторегрессии (VARMA) моделирует предстоящее значение в нескольких временных рядах, используя подход модели ARMA. Он является обобщением ARMA на несколько параллельных временных рядов, например, многомерных временных рядов.\n",
    "\n",
    "Нотация модели включает в себя указание порядка моделей AR(p) и MA(q) в качестве параметров функции VARMA, например, VARMA(p, q). Модель VARMA также может быть использована для разработки моделей VAR или VMA.\n",
    "\n",
    "Метод подходит для многомерных временных рядов без тренда и сезонных компонентов."
   ]
  },
  {
   "cell_type": "code",
   "execution_count": 8,
   "metadata": {},
   "outputs": [
    {
     "name": "stderr",
     "output_type": "stream",
     "text": [
      "d:\\Programming Train\\time_series_ml\\.venv\\lib\\site-packages\\statsmodels\\tsa\\statespace\\varmax.py:161: EstimationWarning: Estimation of VARMA(p,q) models is not generically robust, due especially to identification issues.\n",
      "  warn('Estimation of VARMA(p,q) models is not generically robust,'\n"
     ]
    },
    {
     "data": {
      "text/plain": [
       "array([[99.05479845, 99.5543598 ]])"
      ]
     },
     "execution_count": 8,
     "metadata": {},
     "output_type": "execute_result"
    }
   ],
   "source": [
    "from statsmodels.tsa.statespace.varmax import VARMAX\n",
    "from random import random\n",
    "\n",
    "data = list()\n",
    "\n",
    "for i in range(100):\n",
    "    v1 = i + random()\n",
    "    v2 = v1 + random()\n",
    "    data.append([v1, v2])\n",
    "\n",
    "model = VARMAX(data, order=(1, 1))\n",
    "trained_model = model.fit(disp=False)\n",
    "\n",
    "predictions = trained_model.forecast()\n",
    "predictions"
   ]
  },
  {
   "cell_type": "markdown",
   "metadata": {},
   "source": [
    "## VARMAX (Vector autoregression moving average with exogenous regressors)"
   ]
  },
  {
   "cell_type": "markdown",
   "metadata": {},
   "source": [
    "Метод Vector Autoregression Moving-Average with Exogenous Regressors (VARMAX) расширяет возможности модели VARMA и включает в себя моделирование экзогенных переменных. Это многомерная версия метода ARMAX.\n",
    "\n",
    "Экзогенные переменные, также называемые ковариатами, можно представить как параллельные входные последовательности, которые соответствуют временным шагам исходного ряда. Первичный ряд (ряды) называют эндогенными данными, чтобы отличить его от экзогенной последовательности (последовательностей). Наблюдения за экзогенными переменными включаются в модель непосредственно на каждом временном шаге и не моделируются так же, как первичная эндогенная последовательность (например, как процесс AR, MA и т. д.).\n",
    "\n",
    "Метод VARMAX также может быть использован для моделирования подмножеств моделей с экзогенными переменными, например, VARX и VMAX.\n",
    "\n",
    "Метод подходит для многомерных временных рядов без тренда и сезонных компонентов с экзогенными переменными."
   ]
  },
  {
   "cell_type": "code",
   "execution_count": 9,
   "metadata": {},
   "outputs": [
    {
     "name": "stderr",
     "output_type": "stream",
     "text": [
      "d:\\Programming Train\\time_series_ml\\.venv\\lib\\site-packages\\statsmodels\\tsa\\statespace\\varmax.py:161: EstimationWarning: Estimation of VARMA(p,q) models is not generically robust, due especially to identification issues.\n",
      "  warn('Estimation of VARMA(p,q) models is not generically robust,'\n",
      "d:\\Programming Train\\time_series_ml\\.venv\\lib\\site-packages\\statsmodels\\base\\model.py:607: ConvergenceWarning: Maximum Likelihood optimization failed to converge. Check mle_retvals\n",
      "  warnings.warn(\"Maximum Likelihood optimization failed to \"\n",
      "d:\\Programming Train\\time_series_ml\\.venv\\lib\\site-packages\\statsmodels\\tsa\\statespace\\varmax.py:161: EstimationWarning: Estimation of VARMA(p,q) models is not generically robust, due especially to identification issues.\n",
      "  warn('Estimation of VARMA(p,q) models is not generically robust,'\n",
      "d:\\Programming Train\\time_series_ml\\.venv\\lib\\site-packages\\statsmodels\\tsa\\statespace\\varmax.py:161: EstimationWarning: Estimation of VARMA(p,q) models is not generically robust, due especially to identification issues.\n",
      "  warn('Estimation of VARMA(p,q) models is not generically robust,'\n"
     ]
    },
    {
     "data": {
      "text/plain": [
       "array([[100.20051189, 100.62760895]])"
      ]
     },
     "execution_count": 9,
     "metadata": {},
     "output_type": "execute_result"
    }
   ],
   "source": [
    "from statsmodels.tsa.statespace.varmax import VARMAX\n",
    "from random import random\n",
    "\n",
    "data = list()\n",
    "for i in range(100):\n",
    "    v1 = i + random()\n",
    "    v2 = v1 + random()\n",
    "    data.append([v1, v2])\n",
    "\n",
    "data_exog = [x + random() for x in range(100)]\n",
    "\n",
    "model = VARMAX(data, exog=data_exog, order=(1, 1))\n",
    "trained_model = model.fit(disp=False)\n",
    "\n",
    "data_exog2 = [[100]]\n",
    "predictions = trained_model.forecast(exog=data_exog2)\n",
    "predictions"
   ]
  },
  {
   "cell_type": "markdown",
   "metadata": {},
   "source": [
    "## Simple exponential smoothing (SES)"
   ]
  },
  {
   "cell_type": "markdown",
   "metadata": {},
   "source": [
    "Метод простого экспоненциального сглаживания (SES) моделирует следующий временной шаг как экспоненциально взвешенную линейную функцию наблюдений на предыдущих временных шагах.\n",
    "\n",
    "Метод подходит для одномерных временных рядов без тренда и сезонных компонентов."
   ]
  },
  {
   "cell_type": "code",
   "execution_count": 10,
   "metadata": {},
   "outputs": [
    {
     "data": {
      "text/plain": [
       "array([99.48722791])"
      ]
     },
     "execution_count": 10,
     "metadata": {},
     "output_type": "execute_result"
    }
   ],
   "source": [
    "from statsmodels.tsa.holtwinters import SimpleExpSmoothing\n",
    "from random import random\n",
    "\n",
    "data = [x + random() for x in range(1, 100)]\n",
    "\n",
    "model = SimpleExpSmoothing(data)\n",
    "trained_model = model.fit()\n",
    "\n",
    "predictions = trained_model.predict(len(data), len(data))\n",
    "predictions"
   ]
  },
  {
   "cell_type": "markdown",
   "metadata": {},
   "source": [
    "## Holt Winter's exponential smoothing (HWES)"
   ]
  },
  {
   "cell_type": "markdown",
   "metadata": {},
   "source": [
    "Метод экспоненциального сглаживания Холта Винтера (HWES), также называемый методом тройного экспоненциального сглаживания, моделирует следующий временной шаг как экспоненциально взвешенную линейную функцию наблюдений на предыдущих временных шагах, учитывая тенденции и сезонность.\n",
    "\n",
    "Метод подходит для одномерных временных рядов с трендом и/или сезонными компонентами."
   ]
  },
  {
   "cell_type": "code",
   "execution_count": 11,
   "metadata": {},
   "outputs": [
    {
     "data": {
      "text/plain": [
       "array([99.69448624])"
      ]
     },
     "execution_count": 11,
     "metadata": {},
     "output_type": "execute_result"
    }
   ],
   "source": [
    "from statsmodels.tsa.holtwinters import ExponentialSmoothing\n",
    "from random import random\n",
    "\n",
    "data = [x + random() for x in range(1, 100)]\n",
    "\n",
    "model = ExponentialSmoothing(data)\n",
    "trained_model = model.fit()\n",
    "\n",
    "predictions = trained_model.predict(len(data), len(data))\n",
    "predictions"
   ]
  }
 ],
 "metadata": {
  "kernelspec": {
   "display_name": ".venv",
   "language": "python",
   "name": "python3"
  },
  "language_info": {
   "codemirror_mode": {
    "name": "ipython",
    "version": 3
   },
   "file_extension": ".py",
   "mimetype": "text/x-python",
   "name": "python",
   "nbconvert_exporter": "python",
   "pygments_lexer": "ipython3",
   "version": "3.10.11"
  }
 },
 "nbformat": 4,
 "nbformat_minor": 2
}
